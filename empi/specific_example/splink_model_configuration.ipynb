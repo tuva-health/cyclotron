{
 "cells": [
  {
   "cell_type": "code",
   "execution_count": null,
   "id": "74776f40-6a0c-4b71-b98a-3a0d7bee2c8b",
   "metadata": {},
   "outputs": [],
   "source": [
    "import pandas as pd\n",
    "import splink.comparison_library as cl\n",
    "from splink import DuckDBAPI, Linker, SettingsCreator, block_on, splink_datasets"
   ]
  },
  {
   "cell_type": "code",
   "execution_count": null,
   "id": "13a4a68d-4f65-4843-adf5-1b63b28e2116",
   "metadata": {},
   "outputs": [],
   "source": [
    "db_api = DuckDBAPI()"
   ]
  },
  {
   "cell_type": "code",
   "execution_count": null,
   "id": "2b54849c-2a12-4cdf-b3a6-0806602aaa6b",
   "metadata": {},
   "outputs": [],
   "source": [
    "# Read in the data\n",
    "df = pd.read_csv('clean_data.csv', dtype=str)\n",
    "df.head()"
   ]
  },
  {
   "cell_type": "code",
   "execution_count": null,
   "id": "5906cbb5-3bdd-4b18-8ede-9218b1c3800e",
   "metadata": {},
   "outputs": [],
   "source": [
    "df.shape"
   ]
  },
  {
   "cell_type": "code",
   "execution_count": null,
   "id": "1e5cd204-b1db-48c8-a0f3-b2a61ad01d31",
   "metadata": {},
   "outputs": [],
   "source": [
    "# Look at completeness of fields:\n",
    "\n",
    "from splink.exploratory import completeness_chart\n",
    "completeness_chart(df, db_api=db_api)"
   ]
  },
  {
   "cell_type": "code",
   "execution_count": null,
   "id": "acd2d644-f9ab-47e4-9502-5bf852699aad",
   "metadata": {},
   "outputs": [],
   "source": [
    "# Profile distribution of fields:\n",
    "\n",
    "from splink.exploratory import profile_columns\n",
    "profile_columns(df, db_api=DuckDBAPI(), top_n=10, bottom_n=5"
   ]
  },
  {
   "cell_type": "code",
   "execution_count": null,
   "id": "e7d08988-64d3-457d-a44c-e5ce114e42ce",
   "metadata": {},
   "outputs": [],
   "source": [
    "# Create the row number column (1 through N)\n",
    "# We do this because Splink requires a field called 'unique_id' that is a PK for the input dataset (i.e. a field\n",
    "# that is a unique identifier for each row in the input dataset).\n",
    "\n",
    "row_numbers = range(1, len(df) + 1)\n",
    "\n",
    "# Insert as the first column (at index 0)\n",
    "df.insert(0, 'unique_id', row_numbers)\n",
    "\n",
    "df.head()"
   ]
  },
  {
   "cell_type": "code",
   "execution_count": null,
   "id": "e7446d90-14a2-4d60-8f5f-8b6bd9ea3970",
   "metadata": {},
   "outputs": [],
   "source": [
    "# This is an example of how to create the settings.\n",
    "#\n",
    "# We define 3 things in the settings:\n",
    "#\n",
    "#     [1] The 'link_type'. We will always define link_type=\"dedupe_only\" since\n",
    "#         we will be dealing with a single input file with all the records that need to be linked.\n",
    "#\n",
    "#     [2] The 'comparisons'. This specifies which fields from any pair of records will be used when \n",
    "#         comparing those records and how that comparison will be done.\n",
    "#         For example, in the following 'comparisons' we specify that:\n",
    "#                - The \"first_name\" field will be compared using the NameComparison function\n",
    "#                - The \"sex\" field will be compared looking for an exact match without using term frequency adjustments\n",
    "#                - The \"state\" field will be compared looking for an exact match using term frequency adjustments\n",
    "# \n",
    "#     [3] The 'blocking rules'. These define criteria to determine when two records should be compared. It is important to set\n",
    "#         blocking rules so that we don't compare ALL possible pairs of records, which would result in a number of \n",
    "#         comparisons that grows as O(n^2), where n is the total number of records.\n",
    "     \n",
    "settings = SettingsCreator(\n",
    "    link_type=\"dedupe_only\",\n",
    "    comparisons=[\n",
    "        cl.NameComparison(\"first_name\"),\n",
    "        cl.JaroAtThresholds(\"last_name\"),\n",
    "        cl.ExactMatch(\"sex\").configure(term_frequency_adjustments=False),\n",
    "        cl.ExactMatch(\"race\").configure(term_frequency_adjustments=False),\n",
    "        cl.DateOfBirthComparison(\"birth_date\", input_is_string=True),\n",
    "        cl.DateOfBirthComparison(\"death_date\", input_is_string=True),\n",
    "        cl.ExactMatch(\"social_security_number\").configure(term_frequency_adjustments=False),\n",
    "        cl.LevenshteinAtThresholds(\"address\", 1),\n",
    "        cl.ExactMatch(\"city\").configure(term_frequency_adjustments=True),\n",
    "        cl.ExactMatch(\"state\").configure(term_frequency_adjustments=True),\n",
    "        cl.ExactMatch(\"zip_code\").configure(term_frequency_adjustments=True),\n",
    "        cl.ExactMatch(\"phone\").configure(term_frequency_adjustments=False),\n",
    "    ],\n",
    "    blocking_rules_to_generate_predictions=[\n",
    "        block_on(\"first_name\", \"birth_date\"),\n",
    "        block_on(\"last_name\", \"birth_date\"),\n",
    "        block_on(\"social_security_number\"),\n",
    "        block_on(\"phone\"),\n",
    "        block_on(\"zip_code\", \"birth_date\"),\n",
    "        block_on(\"last_name\", \"death_date\"),\n",
    "        block_on(\"address\", \"birth_date\"),\n",
    "        block_on(\"first_name\", \"last_name\", \"birth_date\"),\n",
    "        block_on(\"first_name\", \"last_name\", \"zip_code\")\n",
    "    ]"
   ]
  },
  {
   "cell_type": "code",
   "execution_count": null,
   "id": "2d7d956d-9376-4247-bc51-f9f71cf9e99b",
   "metadata": {},
   "outputs": [],
   "source": [
    "# This creates the linker object that will then be used to train the model:\n",
    "\n",
    "linker = Linker(df, settings, db_api)"
   ]
  },
  {
   "cell_type": "code",
   "execution_count": null,
   "id": "ec4fe266-5265-4915-9d93-ef8085fe2c34",
   "metadata": {},
   "outputs": [],
   "source": [
    "# Estimate relevant probabilities:"
   ]
  },
  {
   "cell_type": "code",
   "execution_count": null,
   "id": "9db7b922-4a84-4e8d-8fcf-bef64eb6b46d",
   "metadata": {},
   "outputs": [],
   "source": [
    "linker.training.estimate_probability_two_random_records_match(\n",
    "    [block_on(\"first_name\", \"last_name\")],\n",
    "    recall=0.7,\n",
    ")"
   ]
  },
  {
   "cell_type": "code",
   "execution_count": null,
   "id": "f7b6b034-855c-4d5e-bd4b-0340ac2124de",
   "metadata": {},
   "outputs": [],
   "source": [
    "linker.training.estimate_u_using_random_sampling(max_pairs=1e6)"
   ]
  },
  {
   "cell_type": "code",
   "execution_count": null,
   "id": "46dcb5a2-9c69-429b-9a3c-f208eaf2c8e3",
   "metadata": {},
   "outputs": [],
   "source": [
    "# Train the model:\n",
    "\n",
    "training_blocks = [\n",
    "    block_on(\"first_name\", \"last_name\"),\n",
    "    block_on(\"phone\"),\n",
    "    block_on(\"address\", \"birth_date\"),\n",
    "    block_on(\"last_name\", \"birth_date\"),\n",
    "    block_on(\"social_security_number\"),\n",
    "    block_on(\"zip_code\", \"birth_date\")\n",
    "]\n",
    "\n",
    "for rule in training_blocks:\n",
    "    linker.training.estimate_parameters_using_expectation_maximisation(rule)"
   ]
  },
  {
   "cell_type": "code",
   "execution_count": null,
   "id": "b9aa6c43-e197-40d9-80fb-57350b96911f",
   "metadata": {},
   "outputs": [],
   "source": [
    "# Make pairwise_predictions using the trained model:\n",
    "\n",
    "pairwise_predictions = linker.inference.predict(threshold_match_weight=-5)"
   ]
  },
  {
   "cell_type": "code",
   "execution_count": null,
   "id": "efaa01b2-4d95-43eb-8233-1ff1be8904ee",
   "metadata": {},
   "outputs": [],
   "source": [
    "# Save the pairwise predictions in a pandas dataframe:\n",
    "\n",
    "df_pairwise_predictions = pairwise_predictions.as_pandas_dataframe()"
   ]
  },
  {
   "cell_type": "code",
   "execution_count": null,
   "id": "996e198e-5715-4ab6-adb1-9a3b47ee6115",
   "metadata": {},
   "outputs": [],
   "source": [
    "# For example, if we now wanted to see all pairwise predictions with match probability > 0.75 we could do this:\n",
    "\n",
    "df_pairwise_predictions[df_pairwise_predictions['match_probability'] > 0.75].shape"
   ]
  },
  {
   "cell_type": "code",
   "execution_count": null,
   "id": "471cc32e-4ad8-475f-9788-ed74c4aab412",
   "metadata": {},
   "outputs": [],
   "source": [
    "# If we want to see how many matches we have with different match probabilities:\n",
    "df_pairwise_predictions['match_probability'].value_counts().sort_index(ascending=False)"
   ]
  },
  {
   "cell_type": "code",
   "execution_count": null,
   "id": "339af29f-3a85-4b9b-9a40-f6261b803da3",
   "metadata": {},
   "outputs": [],
   "source": [
    "# Create clusters of records (persons) using the trained model:\n",
    "\n",
    "clusters = linker.clustering.cluster_pairwise_predictions_at_threshold(\n",
    "    pairwise_predictions, 0.95\n",
    ")"
   ]
  },
  {
   "cell_type": "code",
   "execution_count": null,
   "id": "0b0fc494-5fff-4991-8687-d5700d74514c",
   "metadata": {},
   "outputs": [],
   "source": [
    "# Save the clusters of people in a pandas dataframe.\n",
    "# This dataframe shows matches between records because we have assigned a unique cluster_id to\n",
    "# all records that correspond to the same cluster (same person).\n",
    "\n",
    "df_clusters = clusters.as_pandas_dataframe() "
   ]
  },
  {
   "cell_type": "code",
   "execution_count": null,
   "id": "f3f80dfd-077f-483b-8c63-b57b6103068c",
   "metadata": {},
   "outputs": [],
   "source": [
    "df_clusters.head()"
   ]
  },
  {
   "cell_type": "code",
   "execution_count": null,
   "id": "354bd066-609d-4976-bd3d-5853f2a33eeb",
   "metadata": {},
   "outputs": [],
   "source": [
    "df_clusters.shape"
   ]
  },
  {
   "cell_type": "code",
   "execution_count": null,
   "id": "95d86218-1968-4306-a4d3-91810f94ba86",
   "metadata": {},
   "outputs": [],
   "source": [
    "df_clusters['cluster_id'].nunique()"
   ]
  },
  {
   "cell_type": "code",
   "execution_count": null,
   "id": "8ba8017d-2423-4138-982f-78e4c7a1f835",
   "metadata": {},
   "outputs": [],
   "source": [
    "# Save the model to a json file which will be fed to the EMPI application:\n",
    "\n",
    "linker.misc.save_model_to_json(\"model.json\")"
   ]
  }
 ],
 "metadata": {
  "kernelspec": {
   "display_name": "Python 3 (ipykernel)",
   "language": "python",
   "name": "python3"
  },
  "language_info": {
   "codemirror_mode": {
    "name": "ipython",
    "version": 3
   },
   "file_extension": ".py",
   "mimetype": "text/x-python",
   "name": "python",
   "nbconvert_exporter": "python",
   "pygments_lexer": "ipython3",
   "version": "3.13.5"
  }
 },
 "nbformat": 4,
 "nbformat_minor": 5
}

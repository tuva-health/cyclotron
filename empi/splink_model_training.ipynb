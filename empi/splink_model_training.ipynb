{
 "cells": [
  {
   "cell_type": "code",
   "execution_count": null,
   "id": "74776f40-6a0c-4b71-b98a-3a0d7bee2c8b",
   "metadata": {},
   "outputs": [],
   "source": [
    "# I got the 'Getting Started' section running here:\n",
    "\n",
    "import pandas as pd\n",
    "import splink.comparison_library as cl\n",
    "from splink import DuckDBAPI, Linker, SettingsCreator, block_on, splink_datasets"
   ]
  },
  {
   "cell_type": "code",
   "execution_count": null,
   "id": "13a4a68d-4f65-4843-adf5-1b63b28e2116",
   "metadata": {},
   "outputs": [],
   "source": [
    "db_api = DuckDBAPI()"
   ]
  },
  {
   "cell_type": "code",
   "execution_count": null,
   "id": "2b54849c-2a12-4cdf-b3a6-0806602aaa6b",
   "metadata": {},
   "outputs": [],
   "source": [
    "# Read in the data\n",
    "df = pd.read_csv('clean_data.csv', dtype=str)\n",
    "df.head()"
   ]
  },
  {
   "cell_type": "code",
   "execution_count": null,
   "id": "5906cbb5-3bdd-4b18-8ede-9218b1c3800e",
   "metadata": {},
   "outputs": [],
   "source": [
    "df.shape"
   ]
  },
  {
   "cell_type": "code",
   "execution_count": null,
   "id": "e7d08988-64d3-457d-a44c-e5ce114e42ce",
   "metadata": {},
   "outputs": [],
   "source": [
    "# Create the row number column (1 through N)\n",
    "row_numbers = range(1, len(df) + 1)\n",
    "\n",
    "# Insert as the first column (at index 0)\n",
    "df.insert(0, 'unique_id', row_numbers)\n",
    "\n",
    "df.head()"
   ]
  },
  {
   "cell_type": "code",
   "execution_count": null,
   "id": "e7446d90-14a2-4d60-8f5f-8b6bd9ea3970",
   "metadata": {},
   "outputs": [],
   "source": [
    "settings = SettingsCreator(\n",
    "    link_type=\"dedupe_only\",\n",
    "    comparisons=[\n",
    "        cl.NameComparison(\"first_name\"),\n",
    "        cl.JaroAtThresholds(\"last_name\"),\n",
    "        cl.ExactMatch(\"sex\").configure(term_frequency_adjustments=False),\n",
    "     #   cl.ExactMatch(\"race\").configure(term_frequency_adjustments=False),\n",
    "        cl.DateOfBirthComparison(\"birth_date\", input_is_string=True),\n",
    "        cl.DateOfBirthComparison(\"death_date\", input_is_string=True),\n",
    "        cl.ExactMatch(\"social_security_number\").configure(term_frequency_adjustments=False),\n",
    "        cl.LevenshteinAtThresholds(\"address\", 1),\n",
    "        cl.ExactMatch(\"city\").configure(term_frequency_adjustments=True),\n",
    "        cl.ExactMatch(\"state\").configure(term_frequency_adjustments=True),\n",
    "        cl.ExactMatch(\"zip_code\").configure(term_frequency_adjustments=True),\n",
    "        cl.ExactMatch(\"phone\").configure(term_frequency_adjustments=False),\n",
    "    ],\n",
    "    blocking_rules_to_generate_predictions=[\n",
    "        block_on(\"first_name\", \"birth_date\"),\n",
    "        block_on(\"last_name\", \"birth_date\"),\n",
    "        block_on(\"social_security_number\"),\n",
    "        block_on(\"phone\"),\n",
    "        block_on(\"zip_code\", \"birth_date\"),\n",
    "        block_on(\"last_name\", \"death_date\"),\n",
    "        block_on(\"address\", \"birth_date\"),\n",
    "        block_on(\"first_name\", \"last_name\", \"birth_date\"),\n",
    "        block_on(\"first_name\", \"last_name\", \"zip_code\")\n",
    "    ]\n",
    ")"
   ]
  },
  {
   "cell_type": "code",
   "execution_count": null,
   "id": "2d7d956d-9376-4247-bc51-f9f71cf9e99b",
   "metadata": {},
   "outputs": [],
   "source": [
    "linker = Linker(df, settings, db_api)"
   ]
  },
  {
   "cell_type": "code",
   "execution_count": null,
   "id": "9db7b922-4a84-4e8d-8fcf-bef64eb6b46d",
   "metadata": {},
   "outputs": [],
   "source": [
    "linker.training.estimate_probability_two_random_records_match(\n",
    "    [block_on(\"first_name\", \"last_name\")],\n",
    "    recall=0.7,\n",
    ")"
   ]
  },
  {
   "cell_type": "code",
   "execution_count": null,
   "id": "f7b6b034-855c-4d5e-bd4b-0340ac2124de",
   "metadata": {},
   "outputs": [],
   "source": [
    "linker.training.estimate_u_using_random_sampling(max_pairs=1e6)"
   ]
  },
  {
   "cell_type": "code",
   "execution_count": null,
   "id": "46dcb5a2-9c69-429b-9a3c-f208eaf2c8e3",
   "metadata": {},
   "outputs": [],
   "source": [
    "training_blocks = [\n",
    "    block_on(\"first_name\", \"last_name\"),\n",
    "    block_on(\"phone\"),\n",
    "    block_on(\"address\", \"birth_date\"),\n",
    "    block_on(\"last_name\", \"birth_date\"),\n",
    "    block_on(\"social_security_number\"),\n",
    "    block_on(\"zip_code\", \"birth_date\")\n",
    "]\n",
    "\n",
    "for rule in training_blocks:\n",
    "    linker.training.estimate_parameters_using_expectation_maximisation(rule)"
   ]
  },
  {
   "cell_type": "code",
   "execution_count": null,
   "id": "b9aa6c43-e197-40d9-80fb-57350b96911f",
   "metadata": {},
   "outputs": [],
   "source": [
    "pairwise_predictions = linker.inference.predict(threshold_match_weight=-5)"
   ]
  },
  {
   "cell_type": "code",
   "execution_count": null,
   "id": "efaa01b2-4d95-43eb-8233-1ff1be8904ee",
   "metadata": {},
   "outputs": [],
   "source": [
    "dd = pairwise_predictions.as_pandas_dataframe()"
   ]
  },
  {
   "cell_type": "code",
   "execution_count": null,
   "id": "f256ee6c-81fa-4891-9785-78ba6c69e7a7",
   "metadata": {},
   "outputs": [],
   "source": [
    "dd['match_probability'].value_counts()"
   ]
  },
  {
   "cell_type": "code",
   "execution_count": null,
   "id": "339af29f-3a85-4b9b-9a40-f6261b803da3",
   "metadata": {},
   "outputs": [],
   "source": [
    "clusters = linker.clustering.cluster_pairwise_predictions_at_threshold(\n",
    "    pairwise_predictions, 0.95\n",
    ")"
   ]
  },
  {
   "cell_type": "code",
   "execution_count": null,
   "id": "0b0fc494-5fff-4991-8687-d5700d74514c",
   "metadata": {},
   "outputs": [],
   "source": [
    "df_clusters = clusters.as_pandas_dataframe()"
   ]
  },
  {
   "cell_type": "code",
   "execution_count": null,
   "id": "f3f80dfd-077f-483b-8c63-b57b6103068c",
   "metadata": {},
   "outputs": [],
   "source": [
    "df_clusters.head()"
   ]
  },
  {
   "cell_type": "code",
   "execution_count": null,
   "id": "354bd066-609d-4976-bd3d-5853f2a33eeb",
   "metadata": {},
   "outputs": [],
   "source": [
    "df_clusters.shape"
   ]
  },
  {
   "cell_type": "code",
   "execution_count": null,
   "id": "95d86218-1968-4306-a4d3-91810f94ba86",
   "metadata": {},
   "outputs": [],
   "source": [
    "df_clusters['unique_id'].unique"
   ]
  },
  {
   "cell_type": "code",
   "execution_count": null,
   "id": "5935f85b-7927-4a76-bfbb-c23040d86a6a",
   "metadata": {},
   "outputs": [],
   "source": [
    "df['unique_id'].nunique()"
   ]
  },
  {
   "cell_type": "code",
   "execution_count": null,
   "id": "b93da928-edda-42f6-9017-cc136ab4ae2a",
   "metadata": {},
   "outputs": [],
   "source": [
    "df_clusters['unique_id'].nunique()"
   ]
  },
  {
   "cell_type": "code",
   "execution_count": null,
   "id": "57e18738-12c2-494e-b2f4-0816e97a683b",
   "metadata": {},
   "outputs": [],
   "source": [
    "df_clusters[df_clusters['unique_id'] == 12]"
   ]
  },
  {
   "cell_type": "code",
   "execution_count": null,
   "id": "77e624ae-f91f-47a5-9994-2c6db22d88e8",
   "metadata": {},
   "outputs": [],
   "source": [
    "df_clusters['cluster_id'].nunique()"
   ]
  },
  {
   "cell_type": "code",
   "execution_count": null,
   "id": "ddec695a-fbda-4248-bc11-3dc7a2b33c23",
   "metadata": {},
   "outputs": [],
   "source": [
    "dupes = df_clusters.groupby(\"source_person_id\")[\"cluster_id\"].nunique()"
   ]
  },
  {
   "cell_type": "code",
   "execution_count": null,
   "id": "e551105f-8bfe-4d76-854f-fa19731757b7",
   "metadata": {},
   "outputs": [],
   "source": [
    "dupes"
   ]
  },
  {
   "cell_type": "code",
   "execution_count": null,
   "id": "37d8b38e-ffdd-4945-a40b-ba38880cbdc9",
   "metadata": {},
   "outputs": [],
   "source": [
    "conflicted_ids = dupes[dupes > 1].index"
   ]
  },
  {
   "cell_type": "code",
   "execution_count": null,
   "id": "682dac8e-81c7-44d8-82e6-8ea94f816571",
   "metadata": {},
   "outputs": [],
   "source": [
    "df_conflicts = df_clusters[df_clusters[\"source_person_id\"].isin(conflicted_ids)]"
   ]
  },
  {
   "cell_type": "code",
   "execution_count": null,
   "id": "e200333d-377c-46b3-9ffd-dc684ae358fe",
   "metadata": {},
   "outputs": [],
   "source": [
    "df_conflicts"
   ]
  },
  {
   "cell_type": "code",
   "execution_count": null,
   "id": "8ba8017d-2423-4138-982f-78e4c7a1f835",
   "metadata": {},
   "outputs": [],
   "source": []
  }
 ],
 "metadata": {
  "kernelspec": {
   "display_name": "Python 3 (ipykernel)",
   "language": "python",
   "name": "python3"
  },
  "language_info": {
   "codemirror_mode": {
    "name": "ipython",
    "version": 3
   },
   "file_extension": ".py",
   "mimetype": "text/x-python",
   "name": "python",
   "nbconvert_exporter": "python",
   "pygments_lexer": "ipython3",
   "version": "3.13.0"
  }
 },
 "nbformat": 4,
 "nbformat_minor": 5
}

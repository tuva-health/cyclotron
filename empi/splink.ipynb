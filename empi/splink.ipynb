{
 "cells": [
  {
   "cell_type": "code",
   "execution_count": null,
   "id": "74776f40-6a0c-4b71-b98a-3a0d7bee2c8b",
   "metadata": {},
   "outputs": [],
   "source": [
    "# I got the 'Getting Started' section running here:\n",
    "\n",
    "import pandas as pd\n",
    "import splink.comparison_library as cl\n",
    "from splink import DuckDBAPI, Linker, SettingsCreator, block_on, splink_datasets"
   ]
  },
  {
   "cell_type": "code",
   "execution_count": null,
   "id": "13a4a68d-4f65-4843-adf5-1b63b28e2116",
   "metadata": {},
   "outputs": [],
   "source": [
    "db_api = DuckDBAPI()"
   ]
  },
  {
   "cell_type": "code",
   "execution_count": null,
   "id": "2b54849c-2a12-4cdf-b3a6-0806602aaa6b",
   "metadata": {},
   "outputs": [],
   "source": [
    "# Read in the data\n",
    "df = pd.read_csv('clean_data.csv', dtype=str)\n",
    "df.head()"
   ]
  },
  {
   "cell_type": "code",
   "execution_count": null,
   "id": "5906cbb5-3bdd-4b18-8ede-9218b1c3800e",
   "metadata": {},
   "outputs": [],
   "source": [
    "df.shape"
   ]
  },
  {
   "cell_type": "code",
   "execution_count": null,
   "id": "e7d08988-64d3-457d-a44c-e5ce114e42ce",
   "metadata": {},
   "outputs": [],
   "source": [
    "# Create the row number column (1 through N)\n",
    "row_numbers = range(1, len(df) + 1)\n",
    "\n",
    "# Insert as the first column (at index 0)\n",
    "df.insert(0, 'unique_id', row_numbers)\n",
    "\n",
    "df.head()"
   ]
  },
  {
   "cell_type": "code",
   "execution_count": null,
   "id": "e7446d90-14a2-4d60-8f5f-8b6bd9ea3970",
   "metadata": {},
   "outputs": [],
   "source": [
    "settings = SettingsCreator(\n",
    "    link_type=\"dedupe_only\",\n",
    "    comparisons=[\n",
    "        cl.JaroAtThresholds(\"first_name\"),\n",
    "        cl.NameComparison(\"last_name\"),\n",
    "        cl.DateOfBirthComparison(\n",
    "            \"birth_date\",\n",
    "            input_is_string=True,\n",
    "        ),\n",
    "        cl.ExactMatch(\"city\").configure(term_frequency_adjustments=True),\n",
    "        cl.ExactMatch(\"state\").configure(term_frequency_adjustments=True),\n",
    "        cl.ExactMatch(\"zip_code\").configure(term_frequency_adjustments=True),\n",
    "        cl.ExactMatch(\"social_security_number\").configure(term_frequency_adjustments=True),\n",
    "    ],\n",
    "    blocking_rules_to_generate_predictions=[\n",
    "        block_on(\"first_name\", \"birth_date\"),\n",
    "        block_on(\"last_name\"),\n",
    "    ]\n",
    ")\n",
    "\n",
    "import splink.comparison_library as cl\n",
    "\n",
    "first_name_comparison = cl.ExactMatch(\"first_name\").configure(\n",
    "    term_frequency_adjustments=True\n",
    ")"
   ]
  },
  {
   "cell_type": "code",
   "execution_count": null,
   "id": "2d7d956d-9376-4247-bc51-f9f71cf9e99b",
   "metadata": {},
   "outputs": [],
   "source": [
    "linker = Linker(df, settings, db_api)"
   ]
  },
  {
   "cell_type": "code",
   "execution_count": null,
   "id": "9db7b922-4a84-4e8d-8fcf-bef64eb6b46d",
   "metadata": {},
   "outputs": [],
   "source": [
    "linker.training.estimate_probability_two_random_records_match(\n",
    "    [block_on(\"first_name\", \"last_name\")],\n",
    "    recall=0.7,\n",
    ")"
   ]
  },
  {
   "cell_type": "code",
   "execution_count": null,
   "id": "f7b6b034-855c-4d5e-bd4b-0340ac2124de",
   "metadata": {},
   "outputs": [],
   "source": [
    "linker.training.estimate_u_using_random_sampling(max_pairs=1e6)"
   ]
  },
  {
   "cell_type": "code",
   "execution_count": null,
   "id": "46dcb5a2-9c69-429b-9a3c-f208eaf2c8e3",
   "metadata": {},
   "outputs": [],
   "source": [
    "linker.training.estimate_parameters_using_expectation_maximisation(\n",
    "    block_on(\"first_name\", \"last_name\")\n",
    ")"
   ]
  },
  {
   "cell_type": "code",
   "execution_count": null,
   "id": "f42882d7-4751-4cc9-9f14-ceebbb7f6985",
   "metadata": {},
   "outputs": [],
   "source": [
    "linker.training.estimate_parameters_using_expectation_maximisation(block_on(\"social_security_number\"))"
   ]
  },
  {
   "cell_type": "code",
   "execution_count": null,
   "id": "b9aa6c43-e197-40d9-80fb-57350b96911f",
   "metadata": {},
   "outputs": [],
   "source": [
    "pairwise_predictions = linker.inference.predict(threshold_match_weight=-5)"
   ]
  },
  {
   "cell_type": "code",
   "execution_count": null,
   "id": "339af29f-3a85-4b9b-9a40-f6261b803da3",
   "metadata": {},
   "outputs": [],
   "source": [
    "clusters = linker.clustering.cluster_pairwise_predictions_at_threshold(\n",
    "    pairwise_predictions, 0.95\n",
    ")"
   ]
  },
  {
   "cell_type": "code",
   "execution_count": null,
   "id": "0b0fc494-5fff-4991-8687-d5700d74514c",
   "metadata": {},
   "outputs": [],
   "source": [
    "df_clusters = clusters.as_pandas_dataframe(limit=5)"
   ]
  },
  {
   "cell_type": "code",
   "execution_count": null,
   "id": "f3f80dfd-077f-483b-8c63-b57b6103068c",
   "metadata": {},
   "outputs": [],
   "source": [
    "df_clusters"
   ]
  },
  {
   "cell_type": "code",
   "execution_count": null,
   "id": "354bd066-609d-4976-bd3d-5853f2a33eeb",
   "metadata": {},
   "outputs": [],
   "source": []
  }
 ],
 "metadata": {
  "kernelspec": {
   "display_name": "Python 3 (ipykernel)",
   "language": "python",
   "name": "python3"
  },
  "language_info": {
   "codemirror_mode": {
    "name": "ipython",
    "version": 3
   },
   "file_extension": ".py",
   "mimetype": "text/x-python",
   "name": "python",
   "nbconvert_exporter": "python",
   "pygments_lexer": "ipython3",
   "version": "3.13.0"
  }
 },
 "nbformat": 4,
 "nbformat_minor": 5
}
